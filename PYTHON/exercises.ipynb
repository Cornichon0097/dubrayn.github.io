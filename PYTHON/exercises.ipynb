{
 "cells": [
  {
   "cell_type": "markdown",
   "id": "3fc56bf4-ca9e-4d01-a2fc-4fc6802d4bf4",
   "metadata": {},
   "source": [
    "# Instructions\n",
    "\n",
    "* two students = one jupyter notebook\n",
    "* **one question** (noted a., b., etc...) = **one answer** = **one notebook cell**\n",
    "* answers must be valid in any order of evaluation (exercise 3 before exercise 1 for example)\n",
    "* **DO NOT GET STUCK, ASK FOR HELP**\n",
    "* bonus points for clarity and succinctness of the solutions\n",
    "* if You are proud of your solution, be ready to share it with the whole class"
   ]
  },
  {
   "cell_type": "markdown",
   "id": "d7543a88-31b4-4623-89b5-5cf39ede6009",
   "metadata": {},
   "source": [
    "# Exercise 1\n",
    "\n",
    "a. Ask the user to enter a string containing only '0' and '1' characters  \n",
    "b. If '0' means 'False' and '1' means 'True', calculate and print `xor` on the whole string  \n",
    "c. If the string has the same number of '0' and '1', print the message \"this is a nice even string\""
   ]
  },
  {
   "cell_type": "markdown",
   "id": "7047bc65-3b45-4b1a-8e9f-a571e3fddcee",
   "metadata": {},
   "source": [
    "# Exercise 2\n",
    "\n",
    "a. Ask the user to type a sentence.  \n",
    "b. Print an error message if the sentence contains non-alphanumerical characters (allowed characters are `A..Za..z0..9 `).  \n",
    "c. Print the 1-character words, 2-characters words, etc...  \n",
    "d. Print the number of words."
   ]
  },
  {
   "cell_type": "markdown",
   "id": "51459d9f-e98d-4aa2-bf73-f16f9ddf9c31",
   "metadata": {},
   "source": [
    "# Exercise 3\n",
    "\n",
    "a. Ask the user to enter his/her name.  \n",
    "b. Ask the user to enter his/her age.  \n",
    "c. Change the name so that it contains a starting uppercase letter and lowercase following letters.  \n",
    "d. Print a greeting message including the user's name and age."
   ]
  },
  {
   "cell_type": "markdown",
   "id": "68c38c0f-f190-45ff-989e-b8e1d3d57e42",
   "metadata": {},
   "source": [
    "# Exercise 4\n",
    "\n",
    "a. Store a secret random integer number in the equiprobable range $[1,999]$.  \n",
    "b. Let the user find this secret number by playing the \"higher or lower\" game.  \n",
    "c. When the secret number has been found, print the number of tries.  \n",
    "d. Modify the game, so that if a number proposed by the user is in contradiction with the previous indications, the game stops.  "
   ]
  },
  {
   "cell_type": "markdown",
   "id": "714e5699-9881-4b6c-b81c-0236d8201a3f",
   "metadata": {},
   "source": [
    "# Exercise 5\n",
    "\n",
    "a. Ask the user for the comma-separated lengths of the small sides of a triangle.  \n",
    "b. Check that the entered lengths are valid floating-point numbers, otherwise ask the user again  \n",
    "c. Calculate and print the length of the hypothenuse.  \n",
    "d. Calculate and print the area of the triangle rounded to the nearest integer.  "
   ]
  },
  {
   "cell_type": "markdown",
   "id": "0c9b9c7b-b54d-4fd1-8b0e-cd5079181037",
   "metadata": {},
   "source": [
    "# Exercise 6\n",
    "\n",
    "a. Ask the user for a list of comma-separated integer numbers (space character allowed).  \n",
    "b. Transform this input into a list of integer numbers.  \n",
    "c. Print the sum of the numbers.  \n",
    "d. Print the numbers in ascending order, one per line."
   ]
  },
  {
   "cell_type": "markdown",
   "id": "24d3ea6f-4966-49b2-b9e4-92b4c2d21096",
   "metadata": {},
   "source": [
    "# Exercise 7\n",
    "\n",
    "a. Create a file named `test.data` with the exact following content:\n",
    "```\n",
    "\"Nathalie\", 49, \"Daft Punk\"\n",
    "\"Paul\", 27, \"Pink Floyd\"\n",
    "\"Adam\", 12, \"Sébastien Patoche\"\n",
    "```\n",
    "b. Read the file named `test.data` and store the data as a `list` of `list` instances.  \n",
    "c. Ask the user for a name and print a corresponding sentence like \"... is ... years old and likes to listen to ...\".  \n",
    "d. Write a variant of b. and c. using a `list` of `dict` entries with respective keys \"name\", \"age\" and \"album\"."
   ]
  },
  {
   "cell_type": "markdown",
   "id": "b84ab138-cfa7-44b2-8759-a5827e3fd3fd",
   "metadata": {},
   "source": [
    "# Exercise 8\n",
    "\n",
    "a. Ask the user for integer numbers, stop if value `-1` is entered.  \n",
    "b. Calculate and print the sum of the entered numbers (excluding the `-1` value).  \n",
    "c. Print the even numbers using a list comprehension.    \n",
    "d. Write a variant of c. by removing the odd numbers from the initial list.  \n",
    "e. Print unique numbers.  \n",
    "f. Print duplicate numbers."
   ]
  },
  {
   "cell_type": "markdown",
   "id": "99b878a6-8f8b-403d-a5e2-609a7e7c7d1b",
   "metadata": {},
   "source": [
    "# Exercise 9\n",
    "\n",
    "a. Ask the user for some comma-separated floating-point numbers representing some price tags  \n",
    "b. Ask the user for a floating point number representing a discount rate (in percent)  \n",
    "c. Calculate and print the discounted prices"
   ]
  },
  {
   "cell_type": "markdown",
   "id": "d2ab3223-7c3f-462e-a5b3-d3e492195ac1",
   "metadata": {},
   "source": [
    "# Exercise 10\n",
    "\n",
    "We define $s_n \\equiv \\sum_{k=1}^{n-1} \\frac{1}{k^2}$.  \n",
    "a. Calculate and print $s_{5}$ using a `for` loop and no container.  \n",
    "b. Calculate and print $s_{8}$ using no `for` loop, a list comprehension, `**` operator and `sum()`.  \n",
    "We define $e_n \\equiv s_n - \\frac{\\pi^2}{6}$.  \n",
    "c. Calculate and print $e_{10}$, $e_{100}$, $e_{1000}$, $e_{10000}$ using `numpy.pi` and `pow()`."
   ]
  },
  {
   "cell_type": "code",
   "execution_count": null,
   "id": "be3479cc-0db2-4219-a551-b76f8b7c0dde",
   "metadata": {},
   "outputs": [],
   "source": []
  }
 ],
 "metadata": {
  "kernelspec": {
   "display_name": "Python 3 (ipykernel)",
   "language": "python",
   "name": "python3"
  },
  "language_info": {
   "codemirror_mode": {
    "name": "ipython",
    "version": 3
   },
   "file_extension": ".py",
   "mimetype": "text/x-python",
   "name": "python",
   "nbconvert_exporter": "python",
   "pygments_lexer": "ipython3",
   "version": "3.11.7"
  }
 },
 "nbformat": 4,
 "nbformat_minor": 5
}
