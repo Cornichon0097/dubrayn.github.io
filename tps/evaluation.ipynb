{
 "cells": [
  {
   "cell_type": "markdown",
   "id": "d674075f-796a-4beb-8596-6358903f6ce3",
   "metadata": {},
   "source": [
    "# Évaluation\n",
    "\n",
    "* Indiquez votre nom et prénom : XXX XXX.\n",
    "* Envoyez votre évaluation à `noel.dubray@gmail.com`."
   ]
  },
  {
   "cell_type": "markdown",
   "id": "a1e7354e-ba65-409a-9f24-26bbcaf5fab5",
   "metadata": {},
   "source": [
    "# Exercice 1\n",
    "\n",
    "a. Demander à l'utilisateur d'entrer une liste de nombres entiers. La liste se termine quand l'utilisateur entre un texte vide.  \n",
    "b. Afficher le nombre d'éléments de la liste.  \n",
    "c. Calculer et afficher la somme des nombres de la liste.  \n",
    "d. Afficher l'avant-dernier nombre de la liste.   \n",
    "e. Afficher le minimum et le maximum de la liste.  \n",
    "f. Afficher la liste triée dans l'ordre croissant.  \n",
    "g. Afficher la liste triée dans l'ordre décroissant."
   ]
  },
  {
   "cell_type": "markdown",
   "id": "4b9a9b1c-469c-4dff-9463-ab34fd80580f",
   "metadata": {},
   "source": [
    "# Exercice 2\n",
    "\n",
    "a. Stocker et afficher la liste suivante : `[2, 5, 6, 1, 4, 1, 3, 2, 9, 4, 5, 1, 2, 6]`  \n",
    "b. Afficher la liste après suppression des doublons, sans modifier la liste initiale.  \n",
    "c. Modifier et afficher la liste en ajoutant 10 aux éléments inférieurs strictement à 4.  \n",
    "d. Modifier et afficher la liste en supprimant les éléments pairs."
   ]
  },
  {
   "cell_type": "markdown",
   "id": "06e4680a-5906-4d3f-999d-9d7b6f707685",
   "metadata": {},
   "source": [
    "# Exercice 3\n",
    "\n",
    "Stocker les informations suivantes :\n",
    "\n",
    "|  Article |   Type | Couleur |  Prix | Stock |\n",
    "|----------|--------|---------|-------|--------\n",
    "| 'pull A' | 'pull' |   rouge | 49.00 |    20 |\n",
    "| 'jupe B' | 'jupe' |   verte | 43.00 |    18 |\n",
    "| 'jupe C' | 'jupe' |   rouge | 46.00 |     4 |\n",
    "| 'pull D' | 'pull' |   bleue | 22.00 |    12 |\n",
    "| 'pull E' | 'pull' |   verte | 35.00 |    11 |\n",
    "| 'jupe F' | 'jupe' |   rouge | 32.00 |    20 |\n",
    "| 'pull G' | 'pull' |   bleue | 29.00 |     6 |\n",
    "| 'jupe H' | 'jupe' |   rouge | 28.00 |     5 |\n",
    "| 'pull I' | 'pull' |   verte | 45.00 |    12 |\n",
    "| 'jupe J' | 'jupe' |   rouge | 44.00 |    18 |\n",
    "| 'pull K' | 'pull' |   verte | 42.00 |    20 |\n",
    "| 'jupe L' | 'jupe' |   bleue | 52.00 |    26 |\n",
    "\n",
    "a. Afficher le prix de chaque article.  \n",
    "b. Appliquer une réduction de 3.00 sur le prix pour les articles rouges. Afficher le prix de chaque article.  \n",
    "c. Appliquer une réduction de 2.00 sur le prix des pulls. Afficher le prix de chaque article.  \n",
    "d. Calculer et afficher le prix total de tous les articles en stock.  \n",
    "e. Calculer et afficher le prix total des articles de type \"jupe\" en stock."
   ]
  },
  {
   "cell_type": "markdown",
   "id": "e648ec80-2058-483d-a784-4a58c480921a",
   "metadata": {},
   "source": [
    "# Exercice 4\n",
    "\n",
    "a. Stocker une série de 10000 tirages pile/face.  \n",
    "b. Afficher le nombre de 'pile' et le nombre de 'face'.  \n",
    "c. Calculer et afficher les longueurs des séries de tirages identiques successifs.  \n",
    "d. Vérifier que la somme des longueurs des séries * leur multiplicité est bien 10000.  \n",
    "e. Calculer et afficher le nombre maximal de tirages identiques successifs."
   ]
  }
 ],
 "metadata": {
  "kernelspec": {
   "display_name": "Python 3 (ipykernel)",
   "language": "python",
   "name": "python3"
  },
  "language_info": {
   "codemirror_mode": {
    "name": "ipython",
    "version": 3
   },
   "file_extension": ".py",
   "mimetype": "text/x-python",
   "name": "python",
   "nbconvert_exporter": "python",
   "pygments_lexer": "ipython3",
   "version": "3.12.3"
  }
 },
 "nbformat": 4,
 "nbformat_minor": 5
}
