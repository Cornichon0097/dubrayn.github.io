{
 "cells": [
  {
   "cell_type": "markdown",
   "id": "c28e937d-be4f-490e-8a5f-f236b15f57bc",
   "metadata": {},
   "source": [
    "# Exercice 1\n",
    "\n",
    "a. Demander à l'utilisateur d'entrer une liste de mots individuellement. La liste se termine quand l'utilisateur entre un texte vide.  \n",
    "b. Pour chaque mot entré, afficher le nombre de lettres.  \n",
    "c. Afficher la liste de mots dans l'ordre alphabétique inversé.  \n",
    "d. Afficher le 3ème mot de la liste s'il existe, sinon afficher \"liste trop courte\"."
   ]
  },
  {
   "cell_type": "code",
   "execution_count": 14,
   "id": "615f7998-fa3b-4b4f-ab6d-3ff06ef9829b",
   "metadata": {},
   "outputs": [
    {
     "name": "stdin",
     "output_type": "stream",
     "text": [
      "Entrez un mot :  toto\n",
      "Entrez un mot :  tutu\n",
      "Entrez un mot :  titi\n",
      "Entrez un mot :  \n"
     ]
    },
    {
     "name": "stdout",
     "output_type": "stream",
     "text": [
      "a. liste de mots : ['toto', 'tutu', 'titi']\n",
      "b. longueurs : [4, 4, 4]\n",
      "['tutu', 'toto', 'titi']\n",
      "d. 3eme mot : titi\n"
     ]
    }
   ],
   "source": [
    "mots = []\n",
    "while True:\n",
    "    mot = input(\"Entrez un mot : \")\n",
    "    if mot == \"\":\n",
    "        break\n",
    "    mots.append(mot)\n",
    "\n",
    "print(f\"a. liste de mots : {mots}\")\n",
    "\n",
    "longueurs = [len(m) for m in mots]\n",
    "print(f\"b. longueurs : {longueurs}\")\n",
    "\n",
    "sortedList = sorted(mots)\n",
    "print(sortedList[::-1])\n",
    "\n",
    "if len(mots) > 2:\n",
    "    print(f\"d. 3eme mot : {mots[2]}\")\n",
    "else:\n",
    "    print(\"d. liste trop courte\")"
   ]
  },
  {
   "cell_type": "markdown",
   "id": "4ef7defa-f8cf-4bac-a53e-4a4c49707132",
   "metadata": {},
   "source": [
    "# Exercice 2\n",
    "\n",
    "a. Stocker et afficher la liste suivante :  \n",
    "`[\"Python\", \"est\", \"le\", \"langage\", \"le\", \"plus\", \"efficace\", \"et\", \"le\", \"langage\", \"le\", \"plus\", \"agréable\"]`  \n",
    "b. Sans modifier la liste, afficher la liste privée des doublons.  \n",
    "c. Modifier la liste en mettant les mots \"le\" et \"plus\" en majuscules, puis afficher la liste.  \n",
    "d. Modifier la liste en supprimant les mots de 3 caractères, puis afficher la liste.  "
   ]
  },
  {
   "cell_type": "markdown",
   "id": "c7f41ac7-cb98-4af2-b764-b6b658713f31",
   "metadata": {},
   "source": [
    "# Exercice 3\n",
    "\n",
    "a. Stocker une série de 5000 tirages de dé à 6 faces (utiliser `random.randint(min, max)`).  \n",
    "b. Afficher le nombre de tirages de chaque nombre.  \n",
    "c. Afficher le score moyen par tirage (score = nombre de la face).  "
   ]
  },
  {
   "cell_type": "code",
   "execution_count": null,
   "id": "35770116-156a-4d52-9a29-0c9f0306d515",
   "metadata": {},
   "outputs": [],
   "source": []
  }
 ],
 "metadata": {
  "kernelspec": {
   "display_name": "Python 3 (ipykernel)",
   "language": "python",
   "name": "python3"
  },
  "language_info": {
   "codemirror_mode": {
    "name": "ipython",
    "version": 3
   },
   "file_extension": ".py",
   "mimetype": "text/x-python",
   "name": "python",
   "nbconvert_exporter": "python",
   "pygments_lexer": "ipython3",
   "version": "3.10.12"
  }
 },
 "nbformat": 4,
 "nbformat_minor": 5
}
