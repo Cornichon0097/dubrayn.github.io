{
 "cells": [
  {
   "cell_type": "markdown",
   "id": "3fc56bf4-ca9e-4d01-a2fc-4fc6802d4bf4",
   "metadata": {},
   "source": [
    "# Instructions\n",
    "\n",
    "* two students = one jupyter notebook\n",
    "* **one question** (noted a., b., etc...) = **one answer** = **one notebook cell**\n",
    "* answers must be valid in any order of evaluation (exercise 3 before exercise 1 for example)\n",
    "* **DO NOT GET STUCK, ASK FOR HELP**\n",
    "* bonus points for clarity and succinctness of the solutions\n",
    "* if You are proud of your solution, be ready to share it with the whole class"
   ]
  },
  {
   "cell_type": "markdown",
   "id": "9cf6e587-6c33-417f-a529-e21d0ad372fa",
   "metadata": {},
   "source": [
    "# Exercise 1\n",
    "\n",
    "a. Ask the user to enter his/her name.  \n",
    "b. Ask the user to enter his/her age.  \n",
    "c. Change the name so that it contains a starting uppercase letter and lowercase following letters.  \n",
    "d. Print a greeting message including the user's name and age."
   ]
  },
  {
   "cell_type": "code",
   "execution_count": 5,
   "id": "c897f73a-038f-4e32-8f07-f6395a62b6f2",
   "metadata": {},
   "outputs": [
    {
     "name": "stdin",
     "output_type": "stream",
     "text": [
      "Enter your name  fatima\n"
     ]
    }
   ],
   "source": [
    "v = input('Enter your name ')"
   ]
  },
  {
   "cell_type": "code",
   "execution_count": 6,
   "id": "eadca11e-ead4-4e62-ac3a-b787cd6d52fd",
   "metadata": {},
   "outputs": [
    {
     "name": "stdin",
     "output_type": "stream",
     "text": [
      "Enter your age  20\n"
     ]
    }
   ],
   "source": [
    "age = input('Enter your age ')"
   ]
  },
  {
   "cell_type": "code",
   "execution_count": 9,
   "id": "5c596095-4045-4bf8-9772-7dca749f6c87",
   "metadata": {},
   "outputs": [],
   "source": [
    "mesg = f'Bonjour {v.capitalize()} ! Vous avez {age}.'"
   ]
  },
  {
   "cell_type": "code",
   "execution_count": 10,
   "id": "bd871122-7ba1-4740-a076-3dc4ea6d9a23",
   "metadata": {},
   "outputs": [
    {
     "name": "stdout",
     "output_type": "stream",
     "text": [
      "Bonjour Fatima ! Vous avez 20.\n"
     ]
    }
   ],
   "source": [
    "print(mesg)"
   ]
  },
  {
   "cell_type": "markdown",
   "id": "13148081-c376-4a6e-b423-4c577b6c320d",
   "metadata": {},
   "source": [
    "# Exercise 2\n",
    "\n",
    "a. Ask the user to type a sentence.  \n",
    "b. Print the words, 1 per line.  \n",
    "c. Print the number of words."
   ]
  },
  {
   "cell_type": "code",
   "execution_count": 11,
   "id": "b0ff9e42-5019-4519-8378-8e78676b4b89",
   "metadata": {},
   "outputs": [
    {
     "name": "stdin",
     "output_type": "stream",
     "text": [
      "Type a sentence:  Ceci est une phrase de test\n"
     ]
    },
    {
     "name": "stdout",
     "output_type": "stream",
     "text": [
      "Ceci\n",
      "est\n",
      "une\n",
      "phrase\n",
      "de\n",
      "test\n",
      "There are 6 words.\n"
     ]
    }
   ],
   "source": [
    "sentence = input(\"Type a sentence: \")\n",
    "words = sentence.split()\n",
    "for word in words:\n",
    "    print(word)\n",
    "print(f\"There are {len(words)} words.\")"
   ]
  },
  {
   "cell_type": "markdown",
   "id": "1514fdb8-58ec-48c0-83ff-374976dc2472",
   "metadata": {},
   "source": [
    "# Exercise 3\n",
    "\n",
    "a. Ask the user for a list of comma-separated integer numbers (space character allowed).  \n",
    "b. Transform this input into a list of integer numbers.  \n",
    "c. Print the sum of the numbers.  \n",
    "d. Print the numbers in ascending order, one per line."
   ]
  },
  {
   "cell_type": "code",
   "execution_count": 12,
   "id": "79d196e4-134a-42ba-9f91-73b0b792e589",
   "metadata": {},
   "outputs": [
    {
     "name": "stdin",
     "output_type": "stream",
     "text": [
      "Enter a comma-separated list of integer numbers:  7,9,2,35,97,12\n"
     ]
    },
    {
     "name": "stdout",
     "output_type": "stream",
     "text": [
      "The sum is: 162.\n",
      "2\n",
      "7\n",
      "9\n",
      "12\n",
      "35\n",
      "97\n"
     ]
    }
   ],
   "source": [
    "listOfNumbers = input(\"Enter a comma-separated list of integer numbers: \")\n",
    "listOfIntegers = [int(stri) for stri in listOfNumbers.split(',')]\n",
    "print(f\"The sum is: {sum(listOfIntegers)}.\")\n",
    "for n in sorted(listOfIntegers):\n",
    "    print(n)"
   ]
  },
  {
   "cell_type": "markdown",
   "id": "d7543a88-31b4-4623-89b5-5cf39ede6009",
   "metadata": {},
   "source": [
    "# Exercise 4\n",
    "\n",
    "a. Ask the user to enter a string containing only '0' and '1' characters.  \n",
    "b. Print an error message if the string is not valid.  \n",
    "c. If '0' means 'False' and '1' means 'True', calculate and print `xor` on the whole string.  \n",
    "d. If the string has the same numbers of '0' and '1', print the message \"this is a nice even string\"."
   ]
  },
  {
   "cell_type": "markdown",
   "id": "68c38c0f-f190-45ff-989e-b8e1d3d57e42",
   "metadata": {},
   "source": [
    "# Exercise 5\n",
    "\n",
    "a. Store a secret random integer number in the equiprobable range $[1,999]$.  \n",
    "b. Let the user find this secret number by playing the \"higher or lower\" game.  \n",
    "c. When the secret number has been found, print the number of tries.  \n",
    "d. Modify the game, so that if a number proposed by the user is in contradiction with the previous indications, the game stops.  "
   ]
  },
  {
   "cell_type": "code",
   "execution_count": 22,
   "id": "49805a88-ce1d-42fc-882f-89dd4ce40927",
   "metadata": {},
   "outputs": [
    {
     "name": "stdin",
     "output_type": "stream",
     "text": [
      "trouver le nombre secret 500\n"
     ]
    },
    {
     "name": "stdout",
     "output_type": "stream",
     "text": [
      "le nombre secret est plus petit !\n"
     ]
    },
    {
     "name": "stdin",
     "output_type": "stream",
     "text": [
      "trouver le nombre secret 200\n"
     ]
    },
    {
     "name": "stdout",
     "output_type": "stream",
     "text": [
      "le nombre secret est plus grand !\n"
     ]
    },
    {
     "name": "stdin",
     "output_type": "stream",
     "text": [
      "trouver le nombre secret 400\n"
     ]
    },
    {
     "name": "stdout",
     "output_type": "stream",
     "text": [
      "le nombre secret est plus petit !\n"
     ]
    },
    {
     "name": "stdin",
     "output_type": "stream",
     "text": [
      "trouver le nombre secret 300\n"
     ]
    },
    {
     "name": "stdout",
     "output_type": "stream",
     "text": [
      "le nombre secret est plus petit !\n"
     ]
    },
    {
     "name": "stdin",
     "output_type": "stream",
     "text": [
      "trouver le nombre secret 250\n"
     ]
    },
    {
     "name": "stdout",
     "output_type": "stream",
     "text": [
      "le nombre secret est plus petit !\n"
     ]
    },
    {
     "name": "stdin",
     "output_type": "stream",
     "text": [
      "trouver le nombre secret 220\n"
     ]
    },
    {
     "name": "stdout",
     "output_type": "stream",
     "text": [
      "le nombre secret est plus petit !\n"
     ]
    },
    {
     "name": "stdin",
     "output_type": "stream",
     "text": [
      "trouver le nombre secret 210\n"
     ]
    },
    {
     "name": "stdout",
     "output_type": "stream",
     "text": [
      "le nombre secret est plus grand !\n"
     ]
    },
    {
     "name": "stdin",
     "output_type": "stream",
     "text": [
      "trouver le nombre secret 215\n"
     ]
    },
    {
     "name": "stdout",
     "output_type": "stream",
     "text": [
      "le nombre secret est plus petit !\n"
     ]
    },
    {
     "name": "stdin",
     "output_type": "stream",
     "text": [
      "trouver le nombre secret 212\n"
     ]
    },
    {
     "name": "stdout",
     "output_type": "stream",
     "text": [
      "le nombre secret est plus grand !\n"
     ]
    },
    {
     "name": "stdin",
     "output_type": "stream",
     "text": [
      "trouver le nombre secret 214\n"
     ]
    },
    {
     "name": "stdout",
     "output_type": "stream",
     "text": [
      "le nombre secret est plus petit !\n"
     ]
    },
    {
     "name": "stdin",
     "output_type": "stream",
     "text": [
      "trouver le nombre secret 213\n"
     ]
    },
    {
     "name": "stdout",
     "output_type": "stream",
     "text": [
      "bonne reponse le nombre etait 213\n"
     ]
    }
   ],
   "source": [
    "import random\n",
    "secret = random.randrange(1,999)\n",
    "\n",
    "for n in range(9999):\n",
    "    nombre = int(input('trouver le nombre secret'))\n",
    "    if nombre == secret:\n",
    "      print(f'bonne reponse le nombre etait {secret}')\n",
    "      break\n",
    "    else: \n",
    "        if nombre < secret:\n",
    "            print('le nombre secret est plus grand !')\n",
    "        else:\n",
    "            print('le nombre secret est plus petit !')"
   ]
  },
  {
   "cell_type": "markdown",
   "id": "714e5699-9881-4b6c-b81c-0236d8201a3f",
   "metadata": {},
   "source": [
    "# Exercise 6\n",
    "\n",
    "a. Ask the user for the comma-separated lengths of the small sides of a right-angled triangle.  \n",
    "b. Check that the entered lengths are valid floating-point numbers, and that the triangle exists, otherwise ask the user again.  \n",
    "c. Calculate and print the length of the hypothenuse.  \n",
    "d. Calculate and print the area of the triangle rounded to the nearest integer.  "
   ]
  },
  {
   "cell_type": "markdown",
   "id": "24d3ea6f-4966-49b2-b9e4-92b4c2d21096",
   "metadata": {},
   "source": [
    "# Exercise 7\n",
    "\n",
    "a. Create a file named `test.data` with the exact following content:\n",
    "```\n",
    "\"Nathalie\", 49, \"Daft Punk\"\n",
    "\"Paul\", 27, \"Pink Floyd\"\n",
    "\"Adam\", 12, \"Sébastien Patoche\"\n",
    "```\n",
    "b. Read the file named `test.data` and store the data as a `list` of `list` instances.  \n",
    "c. Ask the user for a name and print a corresponding sentence like \"... is ... years old and likes to listen to ...\".  \n",
    "d. Write a variant of b. and c. using a `dict` of `list` entries with key \"name\"."
   ]
  },
  {
   "cell_type": "markdown",
   "id": "b84ab138-cfa7-44b2-8759-a5827e3fd3fd",
   "metadata": {},
   "source": [
    "# Exercise 8\n",
    "\n",
    "a. Ask the user for integer numbers, stop if value `-1` is entered.  \n",
    "b. Calculate and print the sum of the entered numbers (excluding the `-1` value).  \n",
    "c. Print the even numbers using a list comprehension.    \n",
    "d. Write a variant of c. by removing the odd numbers from the initial list.  \n",
    "e. Print unique numbers.  \n",
    "f. Print duplicate numbers."
   ]
  },
  {
   "cell_type": "markdown",
   "id": "99b878a6-8f8b-403d-a5e2-609a7e7c7d1b",
   "metadata": {},
   "source": [
    "# Exercise 9\n",
    "\n",
    "a. Ask the user for some comma-separated floating-point numbers representing some price tags.  \n",
    "b. Ask the user for a floating point number representing a discount rate (in percent).  \n",
    "c. Calculate and print the discounted prices."
   ]
  },
  {
   "cell_type": "markdown",
   "id": "d2ab3223-7c3f-462e-a5b3-d3e492195ac1",
   "metadata": {},
   "source": [
    "# Exercise 10\n",
    "\n",
    "We define $s_n \\equiv \\sum_{k=1}^{n-1} \\frac{1}{k^2}$.  \n",
    "a. Calculate and print $s_{5}$ using a `for` loop and no container.  \n",
    "b. Calculate and print $s_{8}$ using no `for` loop, a list comprehension, `**` operator and `sum()`.  \n",
    "We define $e_n \\equiv s_n - \\frac{\\pi^2}{6}$.  \n",
    "c. Calculate and print $e_{10}$, $e_{100}$, $e_{1000}$, $e_{10000}$ using `numpy.pi` and `pow()`."
   ]
  }
 ],
 "metadata": {
  "kernelspec": {
   "display_name": "Python 3 (ipykernel)",
   "language": "python",
   "name": "python3"
  },
  "language_info": {
   "codemirror_mode": {
    "name": "ipython",
    "version": 3
   },
   "file_extension": ".py",
   "mimetype": "text/x-python",
   "name": "python",
   "nbconvert_exporter": "python",
   "pygments_lexer": "ipython3",
   "version": "3.10.12"
  }
 },
 "nbformat": 4,
 "nbformat_minor": 5
}
