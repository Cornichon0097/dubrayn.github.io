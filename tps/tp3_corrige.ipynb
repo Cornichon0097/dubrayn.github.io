{
 "cells": [
  {
   "cell_type": "markdown",
   "id": "c28e937d-be4f-490e-8a5f-f236b15f57bc",
   "metadata": {},
   "source": [
    "# Exercice 1\n",
    "\n",
    "a. Demander à l'utilisateur d'entrer une liste de mots individuellement. La liste se termine quand l'utilisateur entre un texte vide.  \n",
    "b. Pour chaque mot entré, afficher le nombre de lettres.  \n",
    "c. Afficher la liste de mots dans l'ordre alphabétique inversé.  \n",
    "d. Afficher le 3ème mot de la liste s'il existe, sinon afficher \"liste trop courte\"."
   ]
  },
  {
   "cell_type": "code",
   "execution_count": 3,
   "id": "8df0dc2f-2950-4965-8f73-3651292bf2f8",
   "metadata": {},
   "outputs": [
    {
     "name": "stdin",
     "output_type": "stream",
     "text": [
      "a. Entrez un mot :  Python\n",
      "a. Entrez un mot :  est\n",
      "a. Entrez un mot :  le\n",
      "a. Entrez un mot :  meilleur\n",
      "a. Entrez un mot :  langage\n",
      "a. Entrez un mot :  \n"
     ]
    },
    {
     "name": "stdout",
     "output_type": "stream",
     "text": [
      "b. Nombre de lettres :\n",
      "   \"Python : 6 lettres\"\n",
      "   \"est : 3 lettres\"\n",
      "   \"le : 2 lettres\"\n",
      "   \"meilleur : 8 lettres\"\n",
      "   \"langage : 7 lettres\"\n",
      "c. Mots dans l'ordre alphabétique inversé : ['meilleur', 'le', 'langage', 'est', 'Python']\n",
      "d. 3ème mot : le\n"
     ]
    }
   ],
   "source": [
    "mots = []\n",
    "while True:\n",
    "    mot = input('a. Entrez un mot : ')\n",
    "    if mot == \"\":\n",
    "        break\n",
    "    mots.append(mot)\n",
    "\n",
    "print(\"b. Nombre de lettres :\")\n",
    "for mot in mots:\n",
    "    print(f'   \"{mot} : {len(mot)} lettres\"')\n",
    "\n",
    "print(f\"c. Mots dans l'ordre alphabétique inversé : {sorted(mots)[::-1]}\")\n",
    "\n",
    "if len(mots) > 2:\n",
    "    print(f\"d. 3ème mot : {mots[2]}\")\n",
    "else:\n",
    "    print(\"d. liste trop courte\")"
   ]
  },
  {
   "cell_type": "markdown",
   "id": "4ef7defa-f8cf-4bac-a53e-4a4c49707132",
   "metadata": {},
   "source": [
    "# Exercice 2\n",
    "\n",
    "a. Stocker et afficher la liste suivante :  \n",
    "`[\"Python\", \"est\", \"le\", \"langage\", \"le\", \"plus\", \"efficace\", \"et\", \"le\", \"langage\", \"le\", \"plus\", \"agréable\"]`  \n",
    "b. Sans modifier la liste, afficher la liste privée des doublons.  \n",
    "c. Modifier la liste en mettant les mots \"le\" et \"plus\" en majuscules, puis afficher la liste.  \n",
    "d. Modifier la liste en supprimant les mots de 3 caractères, puis afficher la liste.  "
   ]
  },
  {
   "cell_type": "code",
   "execution_count": 4,
   "id": "7d111ced-d85f-4ea5-8b98-cb11dfb3d340",
   "metadata": {},
   "outputs": [
    {
     "name": "stdout",
     "output_type": "stream",
     "text": [
      "a. Liste initiale           : ['Python', 'est', 'le', 'langage', 'le', 'plus', 'efficace', 'et', 'le', 'langage', 'le', 'plus', 'agréable']\n",
      "b. Liste sans les doublons  : ['le', 'efficace', 'Python', 'et', 'plus', 'agréable', 'est', 'langage']\n",
      "c. Liste après modification : ['Python', 'est', 'LE', 'langage', 'LE', 'PLUS', 'efficace', 'et', 'LE', 'langage', 'LE', 'PLUS', 'agréable']\n",
      "d. Liste après modification : ['Python', 'LE', 'langage', 'LE', 'PLUS', 'efficace', 'et', 'LE', 'langage', 'LE', 'PLUS', 'agréable']\n"
     ]
    }
   ],
   "source": [
    "initialList = [\"Python\", \"est\", \"le\", \"langage\", \"le\", \"plus\", \"efficace\", \"et\", \"le\", \"langage\", \"le\", \"plus\", \"agréable\"]\n",
    "print(f\"a. Liste initiale           : {initialList}\")\n",
    "print(f\"b. Liste sans les doublons  : {list(set(initialList))}\")\n",
    "\n",
    "for i, m in enumerate(initialList):\n",
    "    if m in [\"le\", \"plus\"]:\n",
    "        initialList[i] = m.upper()\n",
    "\n",
    "print(f\"c. Liste après modification : {initialList}\")\n",
    "initialList = [i for i in initialList if len(i) != 3]\n",
    "print(f\"d. Liste après modification : {initialList}\")"
   ]
  },
  {
   "cell_type": "markdown",
   "id": "c7f41ac7-cb98-4af2-b764-b6b658713f31",
   "metadata": {},
   "source": [
    "# Exercice 3\n",
    "\n",
    "a. Stocker une série de 5000 tirages de dé à 6 faces (utiliser `random.randint(min, max)`).  \n",
    "b. Afficher le nombre de tirages de chaque nombre.  \n",
    "c. Afficher le score moyen par tirage (score = nombre de la face).  "
   ]
  },
  {
   "cell_type": "code",
   "execution_count": 5,
   "id": "cbd3b582-763f-4d56-9550-67c87afa14cd",
   "metadata": {},
   "outputs": [
    {
     "name": "stdout",
     "output_type": "stream",
     "text": [
      "b. nombre de tirages du nombre 1 : 820\n",
      "b. nombre de tirages du nombre 2 : 855\n",
      "b. nombre de tirages du nombre 3 : 800\n",
      "b. nombre de tirages du nombre 4 : 826\n",
      "b. nombre de tirages du nombre 5 : 822\n",
      "b. nombre de tirages du nombre 6 : 877\n",
      "c. score moyen par tirage : 3.5212\n"
     ]
    }
   ],
   "source": [
    "import random\n",
    "\n",
    "tirages = [random.randint(1, 6) for _ in range(5000)]\n",
    "\n",
    "occurences = [0] * 6\n",
    "for t in tirages:\n",
    "    occurences[t - 1] += 1\n",
    "\n",
    "for i, o in enumerate(occurences):\n",
    "    print(f\"b. nombre de tirages du nombre {i + 1} : {o}\")\n",
    "\n",
    "moy = sum(tirages) / len(tirages)\n",
    "print(f\"c. score moyen par tirage : {moy}\")"
   ]
  }
 ],
 "metadata": {
  "kernelspec": {
   "display_name": "Python 3 (ipykernel)",
   "language": "python",
   "name": "python3"
  },
  "language_info": {
   "codemirror_mode": {
    "name": "ipython",
    "version": 3
   },
   "file_extension": ".py",
   "mimetype": "text/x-python",
   "name": "python",
   "nbconvert_exporter": "python",
   "pygments_lexer": "ipython3",
   "version": "3.10.12"
  }
 },
 "nbformat": 4,
 "nbformat_minor": 5
}
